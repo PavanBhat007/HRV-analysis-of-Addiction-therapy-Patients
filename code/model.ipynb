{
 "cells": [
  {
   "cell_type": "code",
   "execution_count": 1,
   "metadata": {},
   "outputs": [],
   "source": [
    "import pandas as pd\n",
    "import numpy as np\n",
    "\n",
    "from sklearn.model_selection import train_test_split\n",
    "from sklearn.preprocessing import LabelEncoder\n",
    "\n",
    "import matplotlib.pyplot as plt\n",
    "from sklearn.model_selection import GridSearchCV\n",
    "from sklearn.ensemble import RandomForestClassifier\n",
    "\n",
    "from sklearn.metrics import accuracy_score, confusion_matrix\n",
    "import seaborn as sns"
   ]
  },
  {
   "cell_type": "code",
   "execution_count": 2,
   "metadata": {},
   "outputs": [],
   "source": [
    "BASE_PATH = \"../results/\""
   ]
  },
  {
   "cell_type": "code",
   "execution_count": 3,
   "metadata": {},
   "outputs": [],
   "source": [
    "df = pd.read_csv(f\"{BASE_PATH}ecg.csv\")\n",
    "df = df.sample(frac = 1)"
   ]
  },
  {
   "cell_type": "code",
   "execution_count": 4,
   "metadata": {},
   "outputs": [
    {
     "data": {
      "text/html": [
       "<div>\n",
       "<style scoped>\n",
       "    .dataframe tbody tr th:only-of-type {\n",
       "        vertical-align: middle;\n",
       "    }\n",
       "\n",
       "    .dataframe tbody tr th {\n",
       "        vertical-align: top;\n",
       "    }\n",
       "\n",
       "    .dataframe thead th {\n",
       "        text-align: right;\n",
       "    }\n",
       "</style>\n",
       "<table border=\"1\" class=\"dataframe\">\n",
       "  <thead>\n",
       "    <tr style=\"text-align: right;\">\n",
       "      <th></th>\n",
       "      <th>Name</th>\n",
       "      <th>Age</th>\n",
       "      <th>Gender</th>\n",
       "      <th>Mean_RR</th>\n",
       "      <th>STD_RR</th>\n",
       "      <th>RMS_RR</th>\n",
       "      <th>Mean_HR</th>\n",
       "      <th>STD_HR</th>\n",
       "      <th>RMSSD</th>\n",
       "      <th>Status</th>\n",
       "    </tr>\n",
       "  </thead>\n",
       "  <tbody>\n",
       "    <tr>\n",
       "      <th>31</th>\n",
       "      <td>Vasu</td>\n",
       "      <td>35</td>\n",
       "      <td>1</td>\n",
       "      <td>704.219040</td>\n",
       "      <td>25.576193</td>\n",
       "      <td>704.683332</td>\n",
       "      <td>85.200764</td>\n",
       "      <td>3.113157</td>\n",
       "      <td>8.484505</td>\n",
       "      <td>0</td>\n",
       "    </tr>\n",
       "    <tr>\n",
       "      <th>60</th>\n",
       "      <td>Nagaraj N</td>\n",
       "      <td>38</td>\n",
       "      <td>1</td>\n",
       "      <td>646.535971</td>\n",
       "      <td>27.526883</td>\n",
       "      <td>647.121697</td>\n",
       "      <td>92.802261</td>\n",
       "      <td>3.767410</td>\n",
       "      <td>8.171400</td>\n",
       "      <td>1</td>\n",
       "    </tr>\n",
       "    <tr>\n",
       "      <th>29</th>\n",
       "      <td>Ragavendra</td>\n",
       "      <td>36</td>\n",
       "      <td>1</td>\n",
       "      <td>872.250000</td>\n",
       "      <td>10.556396</td>\n",
       "      <td>872.313877</td>\n",
       "      <td>68.787618</td>\n",
       "      <td>0.836170</td>\n",
       "      <td>14.227740</td>\n",
       "      <td>0</td>\n",
       "    </tr>\n",
       "    <tr>\n",
       "      <th>59</th>\n",
       "      <td>Srinivas</td>\n",
       "      <td>40</td>\n",
       "      <td>1</td>\n",
       "      <td>760.399685</td>\n",
       "      <td>21.858622</td>\n",
       "      <td>760.713797</td>\n",
       "      <td>78.905872</td>\n",
       "      <td>2.201125</td>\n",
       "      <td>11.056939</td>\n",
       "      <td>0</td>\n",
       "    </tr>\n",
       "    <tr>\n",
       "      <th>26</th>\n",
       "      <td>Palaniswamy</td>\n",
       "      <td>47</td>\n",
       "      <td>1</td>\n",
       "      <td>892.795775</td>\n",
       "      <td>310.769185</td>\n",
       "      <td>945.336861</td>\n",
       "      <td>67.204619</td>\n",
       "      <td>19.834819</td>\n",
       "      <td>362.161272</td>\n",
       "      <td>0</td>\n",
       "    </tr>\n",
       "  </tbody>\n",
       "</table>\n",
       "</div>"
      ],
      "text/plain": [
       "           Name  Age  Gender     Mean_RR      STD_RR      RMS_RR    Mean_HR  \\\n",
       "31         Vasu   35       1  704.219040   25.576193  704.683332  85.200764   \n",
       "60    Nagaraj N   38       1  646.535971   27.526883  647.121697  92.802261   \n",
       "29   Ragavendra   36       1  872.250000   10.556396  872.313877  68.787618   \n",
       "59     Srinivas   40       1  760.399685   21.858622  760.713797  78.905872   \n",
       "26  Palaniswamy   47       1  892.795775  310.769185  945.336861  67.204619   \n",
       "\n",
       "       STD_HR       RMSSD  Status  \n",
       "31   3.113157    8.484505       0  \n",
       "60   3.767410    8.171400       1  \n",
       "29   0.836170   14.227740       0  \n",
       "59   2.201125   11.056939       0  \n",
       "26  19.834819  362.161272       0  "
      ]
     },
     "execution_count": 4,
     "metadata": {},
     "output_type": "execute_result"
    }
   ],
   "source": [
    "# create an instance of LabelEncoder\n",
    "le = LabelEncoder()\n",
    "\n",
    "# fit and transform the \"Senior Management\" \n",
    "# column with LabelEncoder\n",
    "df['Gender'] = le.fit_transform(df['Gender'])\n",
    "df.head()"
   ]
  },
  {
   "cell_type": "code",
   "execution_count": 5,
   "metadata": {},
   "outputs": [],
   "source": [
    "df = df.sample(frac = 1)\n",
    "X = df.drop(['Name', 'Age', 'Gender', 'Status'], axis=1).copy()\n",
    "y = df['Status'].copy()"
   ]
  },
  {
   "cell_type": "code",
   "execution_count": 6,
   "metadata": {},
   "outputs": [],
   "source": [
    "X_train, X_test, y_train, y_test = train_test_split(X, y, test_size=0.3, random_state=66)"
   ]
  },
  {
   "cell_type": "code",
   "execution_count": 9,
   "metadata": {},
   "outputs": [],
   "source": [
    "params = {\n",
    "        \"ccp_alpha\": [ 0.01, 0.05, 0.1, 0.5, 0.9, 1, 5, 9, 10, 50, 100],\n",
    "        'max_depth': [1, 2, 3, 4, 5, 6, 7, 8, 9, 10 ,20, 50, 100],\n",
    "        'n_estimators': [50, 80, 100, 200, 300],\n",
    "        'criterion' : [\"gini\", \"entropy\", \"log_loss\"],\n",
    "        'min_samples_split' : [2, 5, 10, 20, 50],\n",
    "        'min_samples_leaf' : [1, 5, 10, 20, 50],\n",
    "        'max_leaf_nodes': [10, 20, 50, 100, 200, 500, 1000],\n",
    "        'max_samples' : [1, 5, 10, 20, 50, 100],\n",
    "        'n_jobs' : [-1]\n",
    "    }"
   ]
  },
  {
   "cell_type": "code",
   "execution_count": 10,
   "metadata": {},
   "outputs": [
    {
     "name": "stdout",
     "output_type": "stream",
     "text": [
      "Fitting 5 folds for each of 2252250 candidates, totalling 11261250 fits\n"
     ]
    }
   ],
   "source": [
    "rfc = RandomForestClassifier()\n",
    "rfcCV = GridSearchCV(estimator=rfc, param_grid=params, scoring='neg_mean_absolute_error', cv=5, return_train_score=True, verbose=1, n_jobs=-1)\n",
    "rfcCV.fit(X_train, y_train)"
   ]
  },
  {
   "cell_type": "code",
   "execution_count": 25,
   "metadata": {},
   "outputs": [
    {
     "name": "stdout",
     "output_type": "stream",
     "text": [
      "Optimum Alpha value: 0.05\n"
     ]
    }
   ],
   "source": [
    "opt_alpha_random_forest = rfcCV.best_params_['ccp_alpha']\n",
    "print(f\"Optimum Alpha value: {opt_alpha_random_forest}\")"
   ]
  },
  {
   "cell_type": "code",
   "execution_count": 26,
   "metadata": {},
   "outputs": [],
   "source": [
    "clf = RandomForestClassifier(max_depth=6, random_state=1, ccp_alpha=opt_alpha_random_forest)\n",
    "clf.fit(X_train, y_train)\n",
    "\n",
    "y_pred_test = clf.predict(X_test)"
   ]
  },
  {
   "cell_type": "code",
   "execution_count": 27,
   "metadata": {},
   "outputs": [
    {
     "name": "stdout",
     "output_type": "stream",
     "text": [
      "Accuracy: 71%\n"
     ]
    }
   ],
   "source": [
    "print(f\"Accuracy: {int(accuracy_score(y_test, y_pred_test)*100)}%\")"
   ]
  },
  {
   "cell_type": "code",
   "execution_count": 28,
   "metadata": {},
   "outputs": [
    {
     "data": {
      "text/plain": [
       "array([[27,  0],\n",
       "       [11,  1]], dtype=int64)"
      ]
     },
     "execution_count": 28,
     "metadata": {},
     "output_type": "execute_result"
    }
   ],
   "source": [
    "confusion_matrix(y_test, y_pred_test)"
   ]
  },
  {
   "cell_type": "code",
   "execution_count": 29,
   "metadata": {},
   "outputs": [
    {
     "data": {
      "image/png": "[encoded data removed]",
      "text/plain": [
       "<Figure size 1000x500 with 2 Axes>"
      ]
     },
     "metadata": {},
     "output_type": "display_data"
    }
   ],
   "source": [
    "confusion_matrix(y_test, y_pred_test)\n",
    "# Get and reshape confusion matrix data\n",
    "matrix = confusion_matrix(y_test, y_pred_test)\n",
    "matrix = matrix.astype('float') / matrix.sum(axis=1)[:, np.newaxis]\n",
    "\n",
    "# Build the plot\n",
    "plt.figure(figsize=(10,5))\n",
    "sns.set(font_scale=1)\n",
    "sns.heatmap(matrix, annot=True, annot_kws={'size':16},\n",
    "            cmap=plt.cm.Blues, linewidths=0.2)\n",
    "\n",
    "# Add labels to the plot\n",
    "class_names = ['Alcoholic', 'Non-Alcoholic']\n",
    "tick_marks = np.arange(len(class_names))\n",
    "tick_marks2 = tick_marks + 0.5\n",
    "plt.xticks(tick_marks, class_names, rotation=10)\n",
    "plt.yticks(tick_marks2, class_names, rotation=0)\n",
    "plt.xlabel('Predicted label')\n",
    "plt.ylabel('True label')\n",
    "plt.title('Confusion Matrix for Random Forest Model')\n",
    "plt.show()"
   ]
  },
  {
   "cell_type": "code",
   "execution_count": null,
   "metadata": {},
   "outputs": [],
   "source": []
  }
 ],
 "metadata": {
  "kernelspec": {
   "display_name": "venv",
   "language": "python",
   "name": "python3"
  },
  "language_info": {
   "codemirror_mode": {
    "name": "ipython",
    "version": 3
   },
   "file_extension": ".py",
   "mimetype": "text/x-python",
   "name": "python",
   "nbconvert_exporter": "python",
   "pygments_lexer": "ipython3",
   "version": "3.11.4"
  }
 },
 "nbformat": 4,
 "nbformat_minor": 2
}
