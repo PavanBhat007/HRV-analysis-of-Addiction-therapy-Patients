{
 "cells": [
  {
   "cell_type": "code",
   "execution_count": 29,
   "metadata": {},
   "outputs": [],
   "source": [
    "import pandas as pd\n",
    "import numpy as np\n",
    "\n",
    "from sklearn.model_selection import train_test_split, cross_val_score, KFold\n",
    "from sklearn.preprocessing import LabelEncoder\n",
    "\n",
    "import matplotlib.pyplot as plt\n",
    "from sklearn.model_selection import GridSearchCV\n",
    "from sklearn.ensemble import RandomForestClassifier\n",
    "\n",
    "from sklearn.metrics import accuracy_score, confusion_matrix\n",
    "import seaborn as sns"
   ]
  },
  {
   "cell_type": "code",
   "execution_count": 30,
   "metadata": {},
   "outputs": [],
   "source": [
    "BASE_PATH = \"../results/\""
   ]
  },
  {
   "cell_type": "code",
   "execution_count": 31,
   "metadata": {},
   "outputs": [],
   "source": [
    "df = pd.read_csv(f\"{BASE_PATH}ecg.csv\")\n",
    "df = df.sample(frac = 1)"
   ]
  },
  {
   "cell_type": "code",
   "execution_count": 32,
   "metadata": {},
   "outputs": [
    {
     "data": {
      "text/html": [
       "<div>\n",
       "<style scoped>\n",
       "    .dataframe tbody tr th:only-of-type {\n",
       "        vertical-align: middle;\n",
       "    }\n",
       "\n",
       "    .dataframe tbody tr th {\n",
       "        vertical-align: top;\n",
       "    }\n",
       "\n",
       "    .dataframe thead th {\n",
       "        text-align: right;\n",
       "    }\n",
       "</style>\n",
       "<table border=\"1\" class=\"dataframe\">\n",
       "  <thead>\n",
       "    <tr style=\"text-align: right;\">\n",
       "      <th></th>\n",
       "      <th>Name</th>\n",
       "      <th>Age</th>\n",
       "      <th>Gender</th>\n",
       "      <th>Mean_RR</th>\n",
       "      <th>STD_RR</th>\n",
       "      <th>RMS_RR</th>\n",
       "      <th>Mean_HR</th>\n",
       "      <th>STD_HR</th>\n",
       "      <th>RMSSD</th>\n",
       "      <th>Status</th>\n",
       "    </tr>\n",
       "  </thead>\n",
       "  <tbody>\n",
       "    <tr>\n",
       "      <th>40</th>\n",
       "      <td>Rammurthy</td>\n",
       "      <td>33</td>\n",
       "      <td>1</td>\n",
       "      <td>755.460808</td>\n",
       "      <td>51.654792</td>\n",
       "      <td>757.224702</td>\n",
       "      <td>79.421724</td>\n",
       "      <td>5.832850</td>\n",
       "      <td>39.456187</td>\n",
       "      <td>1</td>\n",
       "    </tr>\n",
       "    <tr>\n",
       "      <th>129</th>\n",
       "      <td>Ragavendra</td>\n",
       "      <td>36</td>\n",
       "      <td>1</td>\n",
       "      <td>605.549370</td>\n",
       "      <td>9.944964</td>\n",
       "      <td>605.631028</td>\n",
       "      <td>99.083581</td>\n",
       "      <td>1.634651</td>\n",
       "      <td>3.588960</td>\n",
       "      <td>1</td>\n",
       "    </tr>\n",
       "    <tr>\n",
       "      <th>98</th>\n",
       "      <td>Harini M B</td>\n",
       "      <td>34</td>\n",
       "      <td>0</td>\n",
       "      <td>817.103964</td>\n",
       "      <td>91.868452</td>\n",
       "      <td>822.252213</td>\n",
       "      <td>73.430068</td>\n",
       "      <td>6.642448</td>\n",
       "      <td>99.751847</td>\n",
       "      <td>0</td>\n",
       "    </tr>\n",
       "    <tr>\n",
       "      <th>119</th>\n",
       "      <td>Manjula</td>\n",
       "      <td>33</td>\n",
       "      <td>0</td>\n",
       "      <td>822.864547</td>\n",
       "      <td>129.624705</td>\n",
       "      <td>833.011780</td>\n",
       "      <td>72.916011</td>\n",
       "      <td>5.807257</td>\n",
       "      <td>116.692757</td>\n",
       "      <td>0</td>\n",
       "    </tr>\n",
       "    <tr>\n",
       "      <th>127</th>\n",
       "      <td>Ramesh</td>\n",
       "      <td>23</td>\n",
       "      <td>1</td>\n",
       "      <td>678.353996</td>\n",
       "      <td>32.847672</td>\n",
       "      <td>679.148815</td>\n",
       "      <td>88.449394</td>\n",
       "      <td>4.163710</td>\n",
       "      <td>13.140582</td>\n",
       "      <td>0</td>\n",
       "    </tr>\n",
       "  </tbody>\n",
       "</table>\n",
       "</div>"
      ],
      "text/plain": [
       "           Name  Age  Gender     Mean_RR      STD_RR      RMS_RR    Mean_HR  \\\n",
       "40    Rammurthy   33       1  755.460808   51.654792  757.224702  79.421724   \n",
       "129  Ragavendra   36       1  605.549370    9.944964  605.631028  99.083581   \n",
       "98   Harini M B   34       0  817.103964   91.868452  822.252213  73.430068   \n",
       "119     Manjula   33       0  822.864547  129.624705  833.011780  72.916011   \n",
       "127      Ramesh   23       1  678.353996   32.847672  679.148815  88.449394   \n",
       "\n",
       "       STD_HR       RMSSD  Status  \n",
       "40   5.832850   39.456187       1  \n",
       "129  1.634651    3.588960       1  \n",
       "98   6.642448   99.751847       0  \n",
       "119  5.807257  116.692757       0  \n",
       "127  4.163710   13.140582       0  "
      ]
     },
     "execution_count": 32,
     "metadata": {},
     "output_type": "execute_result"
    }
   ],
   "source": [
    "# create an instance of LabelEncoder\n",
    "le = LabelEncoder()\n",
    "\n",
    "# fit and transform the \"Senior Management\" \n",
    "# column with LabelEncoder\n",
    "df['Gender'] = le.fit_transform(df['Gender'])\n",
    "df.head()"
   ]
  },
  {
   "cell_type": "code",
   "execution_count": 33,
   "metadata": {},
   "outputs": [],
   "source": [
    "X = df.drop(['Name', 'Age', 'Gender', 'Status'], axis=1).copy()\n",
    "y = df['Status'].copy()"
   ]
  },
  {
   "cell_type": "code",
   "execution_count": 34,
   "metadata": {},
   "outputs": [],
   "source": [
    "X_train, X_test, y_train, y_test = train_test_split(X, y, test_size=0.3, random_state=66)"
   ]
  },
  {
   "cell_type": "code",
   "execution_count": 35,
   "metadata": {},
   "outputs": [],
   "source": [
    "params = {\n",
    "    \"ccp_alpha\": [0.01, 0.05, 0.1, 0.5, 0.9, 1, 5, 9, 10, 50, 100],\n",
    "    'max_depth': [None, 1, 5, 10, 20, 30, 40, 50, 60, 70, 80, 90, 100],\n",
    "    'n_estimators': [50, 80, 100, 200, 300, 400, 500],\n",
    "    # 'criterion': [\"gini\", \"entropy\"],\n",
    "    # 'min_samples_split': [2, 5, 10, 20, 50],\n",
    "    # 'min_samples_leaf': [1, 5, 10, 20, 50],\n",
    "    # 'max_leaf_nodes': [None, 10, 20, 50, 100, 200, 500, 1000],\n",
    "    # 'max_samples': [None, 0.1, 0.5, 1.0],\n",
    "}"
   ]
  },
  {
   "cell_type": "code",
   "execution_count": null,
   "metadata": {},
   "outputs": [],
   "source": [
    "rfc = RandomForestClassifier()\n",
    "rfcCV = GridSearchCV(estimator=rfc, param_grid=params, scoring='neg_mean_absolute_error', cv=2, return_train_score=True, verbose=1, n_jobs=-1)\n",
    "rfcCV.fit(X_train, y_train)"
   ]
  },
  {
   "cell_type": "code",
   "execution_count": null,
   "metadata": {},
   "outputs": [],
   "source": [
    "opt_alpha_random_forest = rfcCV.best_params_['ccp_alpha']\n",
    "print(f\"Optimum Alpha value: {opt_alpha_random_forest}\")"
   ]
  },
  {
   "cell_type": "code",
   "execution_count": 39,
   "metadata": {},
   "outputs": [
    {
     "name": "stdout",
     "output_type": "stream",
     "text": [
      "Cross-Validation Scores: [0.63157895 0.83333333 0.61111111 0.72222222 0.77777778]\n",
      "Mean Accuracy: 0.7152046783625731\n"
     ]
    }
   ],
   "source": [
    "clf = RandomForestClassifier(max_depth=6, random_state=1, ccp_alpha=5)\n",
    "\n",
    "kf = KFold(n_splits=5, shuffle=True, random_state=42)\n",
    "cv_scores = cross_val_score(clf, X_train, y_train, cv=kf, scoring='accuracy')\n",
    "\n",
    "# Print cross-validation scores\n",
    "print(\"Cross-Validation Scores:\", cv_scores)\n",
    "print(\"Mean Accuracy:\", np.mean(cv_scores))\n",
    "\n",
    "clf.fit(X_train, y_train)\n",
    "\n",
    "y_pred_test = clf.predict(X_test)"
   ]
  },
  {
   "cell_type": "code",
   "execution_count": null,
   "metadata": {},
   "outputs": [],
   "source": [
    "from sklearn.externals import joblib\n",
    "joblib.dump(grid_search.best_estimator_, 'trained_model.joblib')"
   ]
  },
  {
   "cell_type": "code",
   "execution_count": null,
   "metadata": {},
   "outputs": [],
   "source": [
    "print(f\"Accuracy: {int(accuracy_score(y_test, y_pred_test)*100)}%\")"
   ]
  },
  {
   "cell_type": "code",
   "execution_count": null,
   "metadata": {},
   "outputs": [],
   "source": [
    "confusion_matrix(y_test, y_pred_test)"
   ]
  },
  {
   "cell_type": "code",
   "execution_count": null,
   "metadata": {},
   "outputs": [],
   "source": [
    "confusion_matrix(y_test, y_pred_test)\n",
    "# Get and reshape confusion matrix data\n",
    "matrix = confusion_matrix(y_test, y_pred_test)\n",
    "matrix = matrix.astype('float') / matrix.sum(axis=1)[:, np.newaxis]\n",
    "\n",
    "# Build the plot\n",
    "plt.figure(figsize=(10,5))\n",
    "sns.set(font_scale=1)\n",
    "sns.heatmap(matrix, annot=True, annot_kws={'size':16},\n",
    "            cmap=plt.cm.Blues, linewidths=0.2)\n",
    "\n",
    "# Add labels to the plot\n",
    "class_names = ['Alcoholic', 'Non-Alcoholic']\n",
    "tick_marks = np.arange(len(class_names))\n",
    "tick_marks2 = tick_marks + 0.5\n",
    "plt.xticks(tick_marks, class_names, rotation=10)\n",
    "plt.yticks(tick_marks2, class_names, rotation=0)\n",
    "plt.xlabel('Predicted label')\n",
    "plt.ylabel('True label')\n",
    "plt.title('Confusion Matrix for Random Forest Model')\n",
    "plt.show()"
   ]
  },
  {
   "cell_type": "code",
   "execution_count": null,
   "metadata": {},
   "outputs": [],
   "source": []
  }
 ],
 "metadata": {
  "kernelspec": {
   "display_name": "venv",
   "language": "python",
   "name": "python3"
  },
  "language_info": {
   "codemirror_mode": {
    "name": "ipython",
    "version": 3
   },
   "file_extension": ".py",
   "mimetype": "text/x-python",
   "name": "python",
   "nbconvert_exporter": "python",
   "pygments_lexer": "ipython3",
   "version": "3.11.4"
  }
 },
 "nbformat": 4,
 "nbformat_minor": 2
}
