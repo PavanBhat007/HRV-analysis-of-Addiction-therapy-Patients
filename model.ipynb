{
 "cells": [
  {
   "cell_type": "code",
   "execution_count": 74,
   "metadata": {},
   "outputs": [],
   "source": [
    "import pandas as pd\n",
    "import numpy as np\n",
    "\n",
    "from sklearn.model_selection import train_test_split\n",
    "from sklearn.metrics import r2_score, mean_squared_error"
   ]
  },
  {
   "cell_type": "code",
   "execution_count": 75,
   "metadata": {},
   "outputs": [],
   "source": [
    "BASE_PATH = \"D:\\dev\\PROJECTS\\ECG-Analysis-SP2\\\\results\\\\\""
   ]
  },
  {
   "cell_type": "code",
   "execution_count": 76,
   "metadata": {},
   "outputs": [
    {
     "data": {
      "text/html": [
       "<div>\n",
       "<style scoped>\n",
       "    .dataframe tbody tr th:only-of-type {\n",
       "        vertical-align: middle;\n",
       "    }\n",
       "\n",
       "    .dataframe tbody tr th {\n",
       "        vertical-align: top;\n",
       "    }\n",
       "\n",
       "    .dataframe thead th {\n",
       "        text-align: right;\n",
       "    }\n",
       "</style>\n",
       "<table border=\"1\" class=\"dataframe\">\n",
       "  <thead>\n",
       "    <tr style=\"text-align: right;\">\n",
       "      <th></th>\n",
       "      <th>Name</th>\n",
       "      <th>Age</th>\n",
       "      <th>Gender</th>\n",
       "      <th>Mean_RR</th>\n",
       "      <th>STD_RR</th>\n",
       "      <th>RMS_RR</th>\n",
       "      <th>Mean_HR</th>\n",
       "      <th>STD_HR</th>\n",
       "      <th>RMSSD</th>\n",
       "      <th>Status</th>\n",
       "    </tr>\n",
       "  </thead>\n",
       "  <tbody>\n",
       "    <tr>\n",
       "      <th>0</th>\n",
       "      <td>Vardhaman</td>\n",
       "      <td>23</td>\n",
       "      <td>M</td>\n",
       "      <td>855.719153</td>\n",
       "      <td>57.218808</td>\n",
       "      <td>857.630025</td>\n",
       "      <td>70.116463</td>\n",
       "      <td>4.555713</td>\n",
       "      <td>42.993773</td>\n",
       "      <td>0</td>\n",
       "    </tr>\n",
       "    <tr>\n",
       "      <th>1</th>\n",
       "      <td>Vincet</td>\n",
       "      <td>27</td>\n",
       "      <td>M</td>\n",
       "      <td>752.645039</td>\n",
       "      <td>71.467749</td>\n",
       "      <td>756.030551</td>\n",
       "      <td>79.718854</td>\n",
       "      <td>9.007666</td>\n",
       "      <td>31.065595</td>\n",
       "      <td>0</td>\n",
       "    </tr>\n",
       "    <tr>\n",
       "      <th>2</th>\n",
       "      <td>Ramesh</td>\n",
       "      <td>30</td>\n",
       "      <td>M</td>\n",
       "      <td>660.651590</td>\n",
       "      <td>16.939869</td>\n",
       "      <td>660.868733</td>\n",
       "      <td>90.819429</td>\n",
       "      <td>2.274697</td>\n",
       "      <td>9.424568</td>\n",
       "      <td>0</td>\n",
       "    </tr>\n",
       "    <tr>\n",
       "      <th>3</th>\n",
       "      <td>Pulak Paul</td>\n",
       "      <td>36</td>\n",
       "      <td>M</td>\n",
       "      <td>736.175919</td>\n",
       "      <td>54.695467</td>\n",
       "      <td>738.204970</td>\n",
       "      <td>81.502258</td>\n",
       "      <td>6.749843</td>\n",
       "      <td>25.330474</td>\n",
       "      <td>0</td>\n",
       "    </tr>\n",
       "    <tr>\n",
       "      <th>4</th>\n",
       "      <td>SAURABH SINGH</td>\n",
       "      <td>31</td>\n",
       "      <td>M</td>\n",
       "      <td>847.817407</td>\n",
       "      <td>137.759364</td>\n",
       "      <td>858.936550</td>\n",
       "      <td>70.769955</td>\n",
       "      <td>13.943722</td>\n",
       "      <td>43.589890</td>\n",
       "      <td>0</td>\n",
       "    </tr>\n",
       "  </tbody>\n",
       "</table>\n",
       "</div>"
      ],
      "text/plain": [
       "            Name  Age Gender     Mean_RR      STD_RR      RMS_RR    Mean_HR  \\\n",
       "0      Vardhaman   23      M  855.719153   57.218808  857.630025  70.116463   \n",
       "1         Vincet   27      M  752.645039   71.467749  756.030551  79.718854   \n",
       "2         Ramesh   30      M  660.651590   16.939869  660.868733  90.819429   \n",
       "3     Pulak Paul   36      M  736.175919   54.695467  738.204970  81.502258   \n",
       "4  SAURABH SINGH   31      M  847.817407  137.759364  858.936550  70.769955   \n",
       "\n",
       "      STD_HR      RMSSD  Status  \n",
       "0   4.555713  42.993773       0  \n",
       "1   9.007666  31.065595       0  \n",
       "2   2.274697   9.424568       0  \n",
       "3   6.749843  25.330474       0  \n",
       "4  13.943722  43.589890       0  "
      ]
     },
     "execution_count": 76,
     "metadata": {},
     "output_type": "execute_result"
    }
   ],
   "source": [
    "df = pd.read_csv(f\"{BASE_PATH}ecg.csv\")\n",
    "df.head()"
   ]
  },
  {
   "cell_type": "code",
   "execution_count": 77,
   "metadata": {},
   "outputs": [
    {
     "name": "stdout",
     "output_type": "stream",
     "text": [
      "<class 'pandas.core.frame.DataFrame'>\n",
      "RangeIndex: 130 entries, 0 to 129\n",
      "Data columns (total 10 columns):\n",
      " #   Column   Non-Null Count  Dtype  \n",
      "---  ------   --------------  -----  \n",
      " 0   Name     130 non-null    object \n",
      " 1   Age      130 non-null    int64  \n",
      " 2   Gender   130 non-null    object \n",
      " 3   Mean_RR  130 non-null    float64\n",
      " 4   STD_RR   130 non-null    float64\n",
      " 5   RMS_RR   130 non-null    float64\n",
      " 6   Mean_HR  130 non-null    float64\n",
      " 7   STD_HR   130 non-null    float64\n",
      " 8   RMSSD    130 non-null    float64\n",
      " 9   Status   130 non-null    int64  \n",
      "dtypes: float64(6), int64(2), object(2)\n",
      "memory usage: 10.3+ KB\n"
     ]
    }
   ],
   "source": [
    "df.info()"
   ]
  },
  {
   "cell_type": "code",
   "execution_count": 78,
   "metadata": {},
   "outputs": [
    {
     "data": {
      "text/plain": [
       "(130, 10)"
      ]
     },
     "execution_count": 78,
     "metadata": {},
     "output_type": "execute_result"
    }
   ],
   "source": [
    "df.shape"
   ]
  },
  {
   "cell_type": "code",
   "execution_count": 79,
   "metadata": {},
   "outputs": [
    {
     "data": {
      "text/plain": [
       "Name       0\n",
       "Age        0\n",
       "Gender     0\n",
       "Mean_RR    0\n",
       "STD_RR     0\n",
       "RMS_RR     0\n",
       "Mean_HR    0\n",
       "STD_HR     0\n",
       "RMSSD      0\n",
       "Status     0\n",
       "dtype: int64"
      ]
     },
     "execution_count": 79,
     "metadata": {},
     "output_type": "execute_result"
    }
   ],
   "source": [
    "df.isnull().sum()"
   ]
  },
  {
   "cell_type": "code",
   "execution_count": 80,
   "metadata": {},
   "outputs": [
    {
     "data": {
      "text/html": [
       "<div>\n",
       "<style scoped>\n",
       "    .dataframe tbody tr th:only-of-type {\n",
       "        vertical-align: middle;\n",
       "    }\n",
       "\n",
       "    .dataframe tbody tr th {\n",
       "        vertical-align: top;\n",
       "    }\n",
       "\n",
       "    .dataframe thead th {\n",
       "        text-align: right;\n",
       "    }\n",
       "</style>\n",
       "<table border=\"1\" class=\"dataframe\">\n",
       "  <thead>\n",
       "    <tr style=\"text-align: right;\">\n",
       "      <th></th>\n",
       "      <th>Name</th>\n",
       "      <th>Age</th>\n",
       "      <th>Gender</th>\n",
       "      <th>Mean_RR</th>\n",
       "      <th>STD_RR</th>\n",
       "      <th>RMS_RR</th>\n",
       "      <th>Mean_HR</th>\n",
       "      <th>STD_HR</th>\n",
       "      <th>RMSSD</th>\n",
       "      <th>Status</th>\n",
       "    </tr>\n",
       "  </thead>\n",
       "  <tbody>\n",
       "    <tr>\n",
       "      <th>0</th>\n",
       "      <td>Vardhaman</td>\n",
       "      <td>23</td>\n",
       "      <td>1</td>\n",
       "      <td>855.719153</td>\n",
       "      <td>57.218808</td>\n",
       "      <td>857.630025</td>\n",
       "      <td>70.116463</td>\n",
       "      <td>4.555713</td>\n",
       "      <td>42.993773</td>\n",
       "      <td>0</td>\n",
       "    </tr>\n",
       "    <tr>\n",
       "      <th>1</th>\n",
       "      <td>Vincet</td>\n",
       "      <td>27</td>\n",
       "      <td>1</td>\n",
       "      <td>752.645039</td>\n",
       "      <td>71.467749</td>\n",
       "      <td>756.030551</td>\n",
       "      <td>79.718854</td>\n",
       "      <td>9.007666</td>\n",
       "      <td>31.065595</td>\n",
       "      <td>0</td>\n",
       "    </tr>\n",
       "    <tr>\n",
       "      <th>2</th>\n",
       "      <td>Ramesh</td>\n",
       "      <td>30</td>\n",
       "      <td>1</td>\n",
       "      <td>660.651590</td>\n",
       "      <td>16.939869</td>\n",
       "      <td>660.868733</td>\n",
       "      <td>90.819429</td>\n",
       "      <td>2.274697</td>\n",
       "      <td>9.424568</td>\n",
       "      <td>0</td>\n",
       "    </tr>\n",
       "    <tr>\n",
       "      <th>3</th>\n",
       "      <td>Pulak Paul</td>\n",
       "      <td>36</td>\n",
       "      <td>1</td>\n",
       "      <td>736.175919</td>\n",
       "      <td>54.695467</td>\n",
       "      <td>738.204970</td>\n",
       "      <td>81.502258</td>\n",
       "      <td>6.749843</td>\n",
       "      <td>25.330474</td>\n",
       "      <td>0</td>\n",
       "    </tr>\n",
       "    <tr>\n",
       "      <th>4</th>\n",
       "      <td>SAURABH SINGH</td>\n",
       "      <td>31</td>\n",
       "      <td>1</td>\n",
       "      <td>847.817407</td>\n",
       "      <td>137.759364</td>\n",
       "      <td>858.936550</td>\n",
       "      <td>70.769955</td>\n",
       "      <td>13.943722</td>\n",
       "      <td>43.589890</td>\n",
       "      <td>0</td>\n",
       "    </tr>\n",
       "  </tbody>\n",
       "</table>\n",
       "</div>"
      ],
      "text/plain": [
       "            Name  Age  Gender     Mean_RR      STD_RR      RMS_RR    Mean_HR  \\\n",
       "0      Vardhaman   23       1  855.719153   57.218808  857.630025  70.116463   \n",
       "1         Vincet   27       1  752.645039   71.467749  756.030551  79.718854   \n",
       "2         Ramesh   30       1  660.651590   16.939869  660.868733  90.819429   \n",
       "3     Pulak Paul   36       1  736.175919   54.695467  738.204970  81.502258   \n",
       "4  SAURABH SINGH   31       1  847.817407  137.759364  858.936550  70.769955   \n",
       "\n",
       "      STD_HR      RMSSD  Status  \n",
       "0   4.555713  42.993773       0  \n",
       "1   9.007666  31.065595       0  \n",
       "2   2.274697   9.424568       0  \n",
       "3   6.749843  25.330474       0  \n",
       "4  13.943722  43.589890       0  "
      ]
     },
     "execution_count": 80,
     "metadata": {},
     "output_type": "execute_result"
    }
   ],
   "source": [
    "from sklearn.preprocessing import LabelEncoder\n",
    "# create an instance of LabelEncoder\n",
    "le = LabelEncoder()\n",
    "\n",
    "# fit and transform the \"Senior Management\" \n",
    "# column with LabelEncoder\n",
    "df['Gender'] = le.fit_transform(df['Gender'])\n",
    "df.head()"
   ]
  },
  {
   "cell_type": "code",
   "execution_count": 81,
   "metadata": {},
   "outputs": [
    {
     "data": {
      "image/png": "[encoded data removed]",
      "text/plain": [
       "<Figure size 640x480 with 1 Axes>"
      ]
     },
     "metadata": {},
     "output_type": "display_data"
    }
   ],
   "source": [
    "# importing packages\n",
    "import seaborn as sns\n",
    "import matplotlib.pyplot as plt\n",
    "\n",
    "\n",
    "sns.histplot(x='Status', data=df, )\n",
    "plt.show()"
   ]
  },
  {
   "cell_type": "code",
   "execution_count": 82,
   "metadata": {},
   "outputs": [
    {
     "name": "stdout",
     "output_type": "stream",
     "text": [
      "Skewness: 1.0087170881216265\n",
      "Kurtosis: -0.9980853768777567\n",
      "\n",
      "\n"
     ]
    },
    {
     "name": "stderr",
     "output_type": "stream",
     "text": [
      "C:\\Users\\Pavan\\AppData\\Local\\Temp\\ipykernel_14516\\1362203378.py:4: UserWarning: \n",
      "\n",
      "`distplot` is a deprecated function and will be removed in seaborn v0.14.0.\n",
      "\n",
      "Please adapt your code to use either `displot` (a figure-level function with\n",
      "similar flexibility) or `histplot` (an axes-level function for histograms).\n",
      "\n",
      "For a guide to updating your code to use the new functions, please see\n",
      "https://gist.github.com/mwaskom/de44147ed2974457ad6372750bbe5751\n",
      "\n",
      "  sns.distplot(df['Status'])\n"
     ]
    },
    {
     "data": {
      "image/png": "[encoded data removed]",
      "text/plain": [
       "<Figure size 600x600 with 1 Axes>"
      ]
     },
     "metadata": {},
     "output_type": "display_data"
    }
   ],
   "source": [
    "print(f\"Skewness: {df['Status'].skew()}\\nKurtosis: {df['Status'].kurt()}\\n\\n\")\n",
    "\n",
    "plt.figure(figsize=[6,6])\n",
    "sns.distplot(df['Status'])\n",
    "plt.show()"
   ]
  },
  {
   "cell_type": "code",
   "execution_count": 144,
   "metadata": {},
   "outputs": [],
   "source": [
    "X = df.drop(['Name', 'Age', 'Gender', 'Status'], axis=1).copy()\n",
    "y = df['Status'].copy()"
   ]
  },
  {
   "cell_type": "code",
   "execution_count": 145,
   "metadata": {},
   "outputs": [],
   "source": [
    "X_train, X_test, y_train, y_test = train_test_split(X, y, test_size=0.3, random_state=66)"
   ]
  },
  {
   "cell_type": "code",
   "execution_count": 147,
   "metadata": {},
   "outputs": [],
   "source": [
    "params = {'alpha': [0.0001, 0.001, 0.01, 0.05, \\\n",
    "    0.1, 0.2, 0.3, 0.4, 0.5, 0.6, 0.7, 0.8, 0.9, \\\n",
    "    1, 2, 3, 4, 5, 6, 7, 8, 9, \\\n",
    "    10, 20, 50, 100, 500, 1000]\n",
    "}"
   ]
  },
  {
   "cell_type": "code",
   "execution_count": 169,
   "metadata": {},
   "outputs": [],
   "source": [
    "from sklearn.model_selection import GridSearchCV\n",
    "from sklearn.ensemble import RandomForestClassifier\n",
    "from sklearn.datasets import make_classification"
   ]
  },
  {
   "cell_type": "code",
   "execution_count": null,
   "metadata": {},
   "outputs": [],
   "source": [
    "rfc = RandomForestClassifier()\n",
    "rdgCV = GridSearchCV(estimator=rfc, param_grid=params, scoring='neg_mean_absolute_error', cv=5, return_train_score=True, verbose=1, n_jobs=-1)\n",
    "rdgCV.fit(X_train, y_train)"
   ]
  },
  {
   "cell_type": "code",
   "execution_count": 157,
   "metadata": {},
   "outputs": [],
   "source": [
    "\n",
    "\n",
    "clf = RandomForestClassifier(max_depth=2, random_state=0)\n",
    "clf.fit(X_train, y_train)\n",
    "\n",
    "y_pred_test = clf.predict(X_test)"
   ]
  },
  {
   "cell_type": "code",
   "execution_count": 155,
   "metadata": {},
   "outputs": [
    {
     "data": {
      "text/plain": [
       "array([1, 0, 0, 0, 0, 1, 1, 0, 0, 0, 0, 0, 1, 0, 0, 1, 1, 1, 1, 0, 1, 1,\n",
       "       0, 0, 0, 0, 0, 0, 0, 0, 0, 0, 0, 1, 0, 0, 1, 1, 1], dtype=int64)"
      ]
     },
     "execution_count": 155,
     "metadata": {},
     "output_type": "execute_result"
    }
   ],
   "source": [
    "y_test = np.array(y_test)\n",
    "y_test"
   ]
  },
  {
   "cell_type": "code",
   "execution_count": 158,
   "metadata": {},
   "outputs": [],
   "source": [
    "from sklearn.metrics import accuracy_score, confusion_matrix, classification_report"
   ]
  },
  {
   "cell_type": "code",
   "execution_count": 159,
   "metadata": {},
   "outputs": [
    {
     "name": "stdout",
     "output_type": "stream",
     "text": [
      "Accuracy: 0.7692307692307693\n"
     ]
    }
   ],
   "source": [
    "print(f\"Accuracy: {accuracy_score(y_test, y_pred_test)}\")"
   ]
  },
  {
   "cell_type": "code",
   "execution_count": 160,
   "metadata": {},
   "outputs": [
    {
     "data": {
      "text/plain": [
       "array([[25,  0],\n",
       "       [ 9,  5]], dtype=int64)"
      ]
     },
     "execution_count": 160,
     "metadata": {},
     "output_type": "execute_result"
    }
   ],
   "source": [
    "confusion_matrix(y_test, y_pred_test)"
   ]
  },
  {
   "cell_type": "code",
   "execution_count": 167,
   "metadata": {},
   "outputs": [
    {
     "data": {
      "image/png": "[encoded data removed]",
      "text/plain": [
       "<Figure size 1000x500 with 2 Axes>"
      ]
     },
     "metadata": {},
     "output_type": "display_data"
    }
   ],
   "source": [
    "confusion_matrix(y_test, y_pred_test)\n",
    "# Get and reshape confusion matrix data\n",
    "matrix = confusion_matrix(y_test, y_pred_test)\n",
    "matrix = matrix.astype('float') / matrix.sum(axis=1)[:, np.newaxis]\n",
    "\n",
    "# Build the plot\n",
    "plt.figure(figsize=(10,5))\n",
    "sns.set(font_scale=1)\n",
    "sns.heatmap(matrix, annot=True, annot_kws={'size':16},\n",
    "            cmap=plt.cm.Blues, linewidths=0.2)\n",
    "\n",
    "# Add labels to the plot\n",
    "class_names = ['Alcoholic', 'Non-Alcoholic']\n",
    "tick_marks = np.arange(len(class_names))\n",
    "tick_marks2 = tick_marks + 0.5\n",
    "plt.xticks(tick_marks, class_names, rotation=10)\n",
    "plt.yticks(tick_marks2, class_names, rotation=0)\n",
    "plt.xlabel('Predicted label')\n",
    "plt.ylabel('True label')\n",
    "plt.title('Confusion Matrix for Random Forest Model')\n",
    "plt.show()"
   ]
  }
 ],
 "metadata": {
  "kernelspec": {
   "display_name": "venv",
   "language": "python",
   "name": "python3"
  },
  "language_info": {
   "codemirror_mode": {
    "name": "ipython",
    "version": 3
   },
   "file_extension": ".py",
   "mimetype": "text/x-python",
   "name": "python",
   "nbconvert_exporter": "python",
   "pygments_lexer": "ipython3",
   "version": "3.11.4"
  }
 },
 "nbformat": 4,
 "nbformat_minor": 2
}
